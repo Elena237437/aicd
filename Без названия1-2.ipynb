{
 "cells": [
  {
   "cell_type": "markdown",
   "id": "fffea4ea",
   "metadata": {},
   "source": [
    "3 вариант(32,33,34)"
   ]
  },
  {
   "cell_type": "markdown",
   "id": "9f2f632a",
   "metadata": {},
   "source": [
    "Используя модуль array и библиотеку numpy, решить следующие задачи:\n",
    "а) Дано число  𝑅  и массив  𝐴  размера  𝑁 . Найти элемент массива, который наиболее близок к числу  𝑅 .\n",
    "б) Дана квадратная матрица порядка  𝑀 . Обнулить элементы матрицы, лежащие на побочной диагонали и ниже нее. Условный оператор не использовать."
   ]
  },
  {
   "cell_type": "code",
   "execution_count": 13,
   "id": "d85344ea",
   "metadata": {},
   "outputs": [
    {
     "name": "stdout",
     "output_type": "stream",
     "text": [
      "Ближайший элемент к числу 5.5 : 5.0\n"
     ]
    }
   ],
   "source": [
    "import numpy as np  # Импортируем библиотеку numpy для работы с массивами\n",
    "\n",
    "def find_closest_element(R, A):\n",
    "    A = np.array(A)  # Преобразуем список A в массив numpy для удобства работы\n",
    "    differences = np.abs(A - R)  # Вычисляем абсолютные значения разности каждого элемента массива A и числа R\n",
    "    closest_index = np.argmin(differences)  # Находим индекс элемента с минимальной разностью\n",
    "    return A[closest_index]  # Возвращаем элемент, который ближе всего к числу R\n",
    "\n",
    "# Тестирование функции\n",
    "R = 5.5  # Заданное число R\n",
    "A = [5, 3, 8, 4.5, 6]  # Исходный массив A\n",
    "closest_element = find_closest_element(R, A)  # Вызываем функцию для нахождения ближайшего элемента\n",
    "print(\"Ближайший элемент к числу\", R, \":\", closest_element)  # Выводим результат\n"
   ]
  },
  {
   "cell_type": "code",
   "execution_count": 14,
   "id": "9e5ac6a2",
   "metadata": {},
   "outputs": [
    {
     "name": "stdout",
     "output_type": "stream",
     "text": [
      "Модифицированная матрица:\n",
      "[[1 2 0]\n",
      " [4 0 0]\n",
      " [0 0 0]]\n"
     ]
    }
   ],
   "source": [
    "def zero_matrix_below_secondary_diagonal(M):\n",
    "    matrix = np.array(M)  # Преобразуем список списков M в матрицу numpy\n",
    "    n = matrix.shape[0]  # Получаем размерность матрицы (предполагается, что матрица квадратная)\n",
    "    for i in range(n):  # Перебираем строки матрицы\n",
    "        for j in range(n - i - 1, n):  # Перебираем столбцы от побочной диагонали до конца строки\n",
    "            matrix[i, j] = 0  # Обнуляем элементы на побочной диагонали и ниже\n",
    "    return matrix  # Возвращаем модифицированную матрицу\n",
    "\n",
    "# Тестирование функции\n",
    "M = np.array([\n",
    "    [1, 2, 3],\n",
    "    [4, 5, 6],\n",
    "    [7, 8, 9]\n",
    "])  # Исходная матрица\n",
    "modified_matrix = zero_matrix_below_secondary_diagonal(M)  # Вызываем функцию для обнуления элементов\n",
    "print(\"Модифицированная матрица:\")\n",
    "print(modified_matrix)  # Выводим результат\n"
   ]
  },
  {
   "cell_type": "markdown",
   "id": "41fd1e13",
   "metadata": {},
   "source": [
    "Задачу решить двумя способами:\n",
    "Реализовать класс стек через использование списка:\n",
    "Создать класс Stack с методами:\n",
    "push(item): добавляет элемент item в верхушку стека;\n",
    "pop(): удаляет и возвращает элемент из верхушки стека;\n",
    "peek(): возвращает элемент из верхушки стека без его удаления;\n",
    "is_empty(): проверяет, пуст ли стек;\n",
    "size(): возвращает текущий размер стека.\n",
    "Реализовать класс стек через связный список:\n",
    "Создать класс Node для представления узла связного списка с двумя атрибутами: data (значение узла) и next (ссылка на следующий узел).\n",
    "Создать класс Stack с методами:\n",
    "push(item): добавляет элемент item в верхушку стека;\n",
    "pop(): удаляет и возвращает элемент из верхушки стека;\n",
    "peek(): возвращает элемент из верхушки стека без его удаления;\n",
    "is_empty(): проверяет, пуст ли стек;\n",
    "size(): возвращает текущий размер стека/\n",
    "Оба способа реализации должны обеспечивать функциональность стека: добавление элементов в верхушку, удаление элементов из верхушки, получение элемента из верхушки без его удаления, проверку на пустоту и получение текущего размера стека."
   ]
  },
  {
   "cell_type": "markdown",
   "id": "d1dbf2bb",
   "metadata": {},
   "source": [
    "Дан стек. Необходимо отсортировать его содержимое по возрастанию или убыванию, в зависимости от переданного параметра (False — по возрастанию, True — по убыванию)."
   ]
  },
  {
   "cell_type": "code",
   "execution_count": 15,
   "id": "b16f3479",
   "metadata": {},
   "outputs": [],
   "source": [
    "class Stack:\n",
    "    def __init__(self):\n",
    "        self.items = []  # Инициализация внутреннего списка\n"
   ]
  },
  {
   "cell_type": "code",
   "execution_count": 16,
   "id": "b85edc43",
   "metadata": {},
   "outputs": [],
   "source": [
    "def push(self, item):\n",
    "    self.items.append(item)  # Добавляет элемент на верх стека\n",
    "\n",
    "def pop(self):\n",
    "    return self.items.pop()  # Удаляет и возвращает элемент с верхушки стека\n",
    "\n",
    "def peek(self):\n",
    "    if not self.is_empty():\n",
    "        return self.items[-1]  # Возвращает элемент с верхушки стека без его удаления\n",
    "    return None  # Возвращает None, если стек пуст\n",
    "\n",
    "def is_empty(self):\n",
    "    return len(self.items) == 0  # Проверяет, пуст ли стек\n",
    "\n",
    "def size(self):\n",
    "    return len(self.items)  # Возвращает размер стека\n"
   ]
  },
  {
   "cell_type": "code",
   "execution_count": 17,
   "id": "ae92e38f",
   "metadata": {},
   "outputs": [
    {
     "ename": "SyntaxError",
     "evalue": "invalid syntax (1582398461.py, line 3)",
     "output_type": "error",
     "traceback": [
      "\u001b[0;36m  Cell \u001b[0;32mIn[17], line 3\u001b[0;36m\u001b[0m\n\u001b[0;31m    ```python\u001b[0m\n\u001b[0m    ^\u001b[0m\n\u001b[0;31mSyntaxError\u001b[0m\u001b[0;31m:\u001b[0m invalid syntax\n"
     ]
    }
   ],
   "source": [
    "\n",
    "### 2. Реализация стека через связный список:\n",
    "\n",
    "```python\n",
    "class Node:\n",
    "    def __init__(self, data):\n",
    "        self.data = data  # Хранит данные узла\n",
    "        self.next = None  # Указатель на следующий узел в списке\n",
    "\n",
    "class Stack:\n",
    "    def __init__(self):\n",
    "        self.head = None  # Головной узел стека\n",
    "        self._size = 0  # Счетчик размера стека\n",
    "\n",
    "    def push(self, item):\n",
    "        new_node = Node(item)  # Создает новый узел\n",
    "        new_node.next = self.head  # Новый узел указывает на предыдущую голову\n",
    "        self.head = new_node  # Новый узел становится головой\n",
    "        self._size += 1  # Увеличиваем размер стека\n",
    "\n",
    "    def pop(self):\n",
    "        if self.is_empty():\n",
    "            return None  # Возвращает None, если стек пуст\n",
    "        popped_node = self.head  # Сохраняем узел, который будет удален\n",
    "        self.head = self.head.next  # Перемещаем голову на следующий узел\n",
    "        self._size -= 1  # Уменьшаем размер стека\n",
    "        return popped_node.data  # Возвращаем данные удаленного узла\n",
    "\n",
    "    def peek(self):\n",
    "        if not self.is_empty():\n",
    "            return self.head.data  # Возвращает данные головного узла\n",
    "        return None  # Возвращает None, если стек пуст\n",
    "\n",
    "    def is_empty(self):\n",
    "        return self.head is None  # Проверяет, пуст ли стек\n",
    "\n",
    "    def size(self):\n",
    "        return self._size  # Возвращает текущий размер стека\n"
   ]
  },
  {
   "cell_type": "code",
   "execution_count": 18,
   "id": "76d4ff9f",
   "metadata": {},
   "outputs": [],
   "source": [
    "#функция сортировки стека\n",
    "\n",
    "def sort_stack(stack, descending=False):\n",
    "    temp_stack = Stack()  # Временный стек для сортировки\n",
    "    while not stack.is_empty():\n",
    "        tmp = stack.pop()  # Извлекаем элемент для сравнения\n",
    "        while not temp_stack.is_empty() and (temp_stack.peek() > tmp if not descending else temp_stack.peek() < tmp):\n",
    "            stack.push(temp_stack.pop())  # Перемещаем элементы обратно в исходный стек для поддержания порядка\n",
    "        temp_stack.push(tmp)  # Добавляем элемент в временный стек\n",
    "\n",
    "    while not temp_stack.is_empty():\n",
    "        stack.push(temp_stack.pop())  # Перекладываем отсортированные элементы обратно в исходный стек\n",
    "\n",
    "    if descending:\n",
    "        reverse_stack(stack)  # Если нужна сортировка по убыванию, переворачиваем стек\n",
    "\n",
    "def reverse_stack(stack):\n",
    "    temp_stack = Stack()  # Вспомогательный стек для переворачивания\n",
    "    while not stack.is_empty():\n",
    "        temp_stack.push(stack.pop())  # Перекладываем элементы во вспомогательный стек\n",
    "    while not temp_stack.is_empty():\n",
    "        stack.push(temp_stack.pop())  # Перекладываем элементы обратно в исходный стек в обратном порядке\n"
   ]
  },
  {
   "cell_type": "markdown",
   "id": "d9fa5916",
   "metadata": {},
   "source": [
    "Задачу решить двумя способами:\n",
    "Реализовать класс очередь через использование списка:\n",
    "Создать класс Queue с методами:\n",
    "enqueue(item): добавляет элемент item в конец очереди;\n",
    "dequeue(): удаляет и возвращает элемент из начала очереди;\n",
    "peek(): возвращает элемент из начала очереди без его удаления;\n",
    "is_empty(): проверяет, пуста ли очередь;\n",
    "size(): возвращает текущий размер очереди.\n",
    "Реализовать класс очередь через связный список:\n",
    "Создать класс Node для представления узла связного списка с двумя атрибутами: data (значение узла) и next (ссылка на следующий узел).\n",
    "Создать класс Queue с методами:\n",
    "enqueue(item): добавляет элемент item в конец очереди;\n",
    "dequeue(): удаляет и возвращает элемент из начала очереди;\n",
    "peek(): возвращает элемент из начала очереди без его удаления;\n",
    "is_empty(): проверяет, пуста ли очередь;\n",
    "size(): возвращает текущий размер очереди.\n",
    "Оба способа реализации должны обеспечивать функциональность очереди: добавление элементов в конец, удаление элементов из начала, получение элемента из начала без его удаления, проверку на пустоту и получение текущего размера очереди."
   ]
  },
  {
   "cell_type": "markdown",
   "id": "1cb99181",
   "metadata": {},
   "source": [
    "Создать класс очереди с ограниченной емкостью. Если при добавлении элемента очередь уже заполнена, то новый элемент должен заменить первый элемент в очереди."
   ]
  },
  {
   "cell_type": "markdown",
   "id": "71d963e6",
   "metadata": {},
   "source": [
    "1. Реализация через использование списка"
   ]
  },
  {
   "cell_type": "code",
   "execution_count": 19,
   "id": "3c7ba3ec",
   "metadata": {},
   "outputs": [],
   "source": [
    "class Queue:\n",
    "    def __init__(self):\n",
    "        self.items = []  # Инициализация пустого списка для элементов очереди\n",
    "\n",
    "    def enqueue(self, item):\n",
    "        self.items.append(item)  # Добавляет элемент в конец списка\n",
    "\n",
    "    def dequeue(self):\n",
    "        return self.items.pop(0) if not self.is_empty() else None  # Удаляет и возвращает первый элемент списка\n",
    "\n",
    "    def peek(self):\n",
    "        return self.items[0] if not self.is_empty() else None  # Возвращает первый элемент списка без удаления\n",
    "\n",
    "    def is_empty(self):\n",
    "        return len(self.items) == 0  # Проверяет, пуст ли список\n",
    "\n",
    "    def size(self):\n",
    "        return len(self.items)  # Возвращает количество элементов в списке\n"
   ]
  },
  {
   "cell_type": "markdown",
   "id": "bd8078d6",
   "metadata": {},
   "source": [
    "2. Реализация через связный список"
   ]
  },
  {
   "cell_type": "code",
   "execution_count": 20,
   "id": "11beb291",
   "metadata": {},
   "outputs": [],
   "source": [
    "class Node:\n",
    "    def __init__(self, data=None):\n",
    "        self.data = data  # Значение узла\n",
    "        self.next = None  # Ссылка на следующий узел\n",
    "\n",
    "class Queue:\n",
    "    def __init__(self):\n",
    "        self.head = None  # Первый элемент очереди\n",
    "        self.tail = None  # Последний элемент очереди\n",
    "        self.count = 0  # Счетчик элементов\n",
    "\n",
    "    def enqueue(self, item):\n",
    "        new_node = Node(item)\n",
    "        if self.is_empty():\n",
    "            self.head = self.tail = new_node  # Если очередь пуста, новый узел становится и головой, и хвостом\n",
    "        else:\n",
    "            self.tail.next = new_node  # Привязываем новый узел к концу очереди\n",
    "            self.tail = new_node  # Обновляем хвост\n",
    "        self.count += 1\n",
    "\n",
    "    def dequeue(self):\n",
    "        if self.is_empty():\n",
    "            return None\n",
    "        removed_data = self.head.data\n",
    "        self.head = self.head.next  # Перемещаем голову на следующий узел\n",
    "        if self.head is None:\n",
    "            self.tail = None  # Если очередь опустела, сбрасываем и хвост\n",
    "        self.count -= 1\n",
    "        return removed_data\n",
    "\n",
    "    def peek(self):\n",
    "        return self.head.data if not self.is_empty() else None\n",
    "\n",
    "    def is_empty(self):\n",
    "        return self.head is None\n",
    "\n",
    "    def size(self):\n",
    "        return self.count\n"
   ]
  },
  {
   "cell_type": "markdown",
   "id": "912a0b03",
   "metadata": {},
   "source": [
    "3. Класс очереди с ограниченной емкостью"
   ]
  },
  {
   "cell_type": "code",
   "execution_count": 21,
   "id": "2c53eb09",
   "metadata": {},
   "outputs": [],
   "source": [
    "class CircularQueue:\n",
    "    def __init__(self, capacity):\n",
    "        self.capacity = capacity  # Максимальная емкость очереди\n",
    "        self.queue = []\n",
    "        self.head = 0\n",
    "        self.tail = -1\n",
    "        self.size = 0\n",
    "\n",
    "    def enqueue(self, item):\n",
    "        if self.size == self.capacity:\n",
    "            self.dequeue()  # Если очередь полна, удаляем первый элемент\n",
    "        if self.size < self.capacity:\n",
    "            if self.tail == self.capacity - 1:\n",
    "                self.tail = 0  # Циклический сдвиг хвоста\n",
    "            else:\n",
    "                self.tail += 1\n",
    "            if self.size == 0:\n",
    "                self.head = self.tail  # Если очередь была пуста, голова и хвост совпадают\n",
    "            self.queue.append(item)\n",
    "            self.size += 1\n",
    "\n",
    "    def dequeue(self):\n",
    "        if not self.is_empty():\n",
    "            item = self.queue[self.head]\n",
    "            self.head += 1\n",
    "            if self.head == self.capacity:\n",
    "                self.head = 0  # Циклический сдвиг головы\n",
    "            self.size -= 1\n",
    "            return item\n",
    "        return None\n",
    "\n",
    "    def peek(self):\n",
    "        return self.queue[self.head] if not self.is_empty() else None\n",
    "\n",
    "    def is_empty(self):\n",
    "        return self.size == 0\n",
    "\n",
    "    def is_full(self):\n",
    "        return self.size == self.capacity\n"
   ]
  },
  {
   "cell_type": "code",
   "execution_count": null,
   "id": "13d1cba2",
   "metadata": {},
   "outputs": [],
   "source": []
  },
  {
   "cell_type": "code",
   "execution_count": null,
   "id": "e3bcdaac",
   "metadata": {},
   "outputs": [],
   "source": []
  },
  {
   "cell_type": "code",
   "execution_count": null,
   "id": "0648b02f",
   "metadata": {},
   "outputs": [],
   "source": []
  },
  {
   "cell_type": "code",
   "execution_count": null,
   "id": "1c8330a9",
   "metadata": {},
   "outputs": [],
   "source": []
  },
  {
   "cell_type": "code",
   "execution_count": null,
   "id": "c900065d",
   "metadata": {},
   "outputs": [],
   "source": []
  }
 ],
 "metadata": {
  "kernelspec": {
   "display_name": "Python 3 (ipykernel)",
   "language": "python",
   "name": "python3"
  },
  "language_info": {
   "codemirror_mode": {
    "name": "ipython",
    "version": 3
   },
   "file_extension": ".py",
   "mimetype": "text/x-python",
   "name": "python",
   "nbconvert_exporter": "python",
   "pygments_lexer": "ipython3",
   "version": "3.11.5"
  }
 },
 "nbformat": 4,
 "nbformat_minor": 5
}
