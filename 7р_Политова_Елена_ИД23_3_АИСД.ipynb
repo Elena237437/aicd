{
 "cells": [
  {
   "cell_type": "markdown",
   "id": "99bc332b",
   "metadata": {},
   "source": [
    "Задание(28)\n",
    "а) Используя лямбда-функцию, отсортировать список кортежей. Пример: [('English', 88), ('Science', 90), ('Maths', 97), ('Social sciences', 82)] → [('Social sciences', 82), ('English', 88), ('Science', 90), ('Maths', 97)].\n",
    "б) Найдите палиндромы в заданном списке строк с помощью лямбда- функции.\n",
    "в) Найти индекс и значение максимального и минимального значений в заданном списке чисел."
   ]
  },
  {
   "cell_type": "code",
   "execution_count": 7,
   "id": "30973b03",
   "metadata": {},
   "outputs": [
    {
     "name": "stdout",
     "output_type": "stream",
     "text": [
      "[('Social sciences', 82), ('English', 88), ('Science', 90), ('Maths', 97)]\n"
     ]
    }
   ],
   "source": [
    "#а\n",
    "# Исходный список кортежей, где каждый кортеж содержит название предмета и его оценку\n",
    "spisok = [('English', 88), ('Science', 90), ('Maths', 97), ('Social sciences', 82)]\n",
    "\n",
    "# Сортировка списка кортежей по второму элементу (оценке) с помощью функции sorted и лямбда-функции в качестве ключа сортировки\n",
    "sorted_spisok = sorted(spisok, key=lambda x: x[1])\n",
    "\n",
    "# Вывод отсортированного списка\n",
    "print(sorted_spisok)\n"
   ]
  },
  {
   "cell_type": "code",
   "execution_count": 8,
   "id": "d859e079",
   "metadata": {},
   "outputs": [
    {
     "name": "stdout",
     "output_type": "stream",
     "text": [
      "['radar', 'level', 'rotor']\n"
     ]
    }
   ],
   "source": [
    "#б\n",
    "# Исходный список строк\n",
    "words = ['radar', 'python', 'level', 'hello', 'rotor']\n",
    "\n",
    "# Фильтрация списка, чтобы найти палиндромы, используя лямбда-функцию\n",
    "palindromes = list(filter(lambda word: word == word[::-1], words))\n",
    "\n",
    "# Вывод списка палиндромов\n",
    "print(palindromes)\n"
   ]
  },
  {
   "cell_type": "code",
   "execution_count": 9,
   "id": "fbbb887b",
   "metadata": {},
   "outputs": [
    {
     "name": "stdout",
     "output_type": "stream",
     "text": [
      "Max value: 35 at index 3\n",
      "Min value: 5 at index 2\n"
     ]
    }
   ],
   "source": [
    "#в\n",
    "# Исходный список чисел\n",
    "numbers = [10, 20, 5, 35, 15]\n",
    "\n",
    "# Нахождение индекса и значения максимального элемента в списке\n",
    "max_value = max(numbers)  # Нахождение максимального значения\n",
    "max_index = numbers.index(max_value)  # Нахождение индекса максимального значения\n",
    "\n",
    "# Нахождение индекса и значения минимального элемента в списке\n",
    "min_value = min(numbers)  # Нахождение минимального значения\n",
    "min_index = numbers.index(min_value)  # Нахождение индекса минимального значения\n",
    "\n",
    "# Вывод результатов\n",
    "print(f\"Max value: {max_value} at index {max_index}\")\n",
    "print(f\"Min value: {min_value} at index {min_index}\")\n"
   ]
  },
  {
   "cell_type": "markdown",
   "id": "a50be893",
   "metadata": {},
   "source": [
    "Задание(29)\n",
    "а) Сложите три заданных списка, используя map() и лямбда-функцию.\n",
    "б) Сгенерировать список целых чисел. С помощью функции filter() выбрать из списка все положительные числа и упорядочить их по убыванию. Используя функцию reduce(), найти их произведение."
   ]
  },
  {
   "cell_type": "code",
   "execution_count": 10,
   "id": "85c3add5",
   "metadata": {},
   "outputs": [
    {
     "name": "stdout",
     "output_type": "stream",
     "text": [
      "[10, 7, 3, 2]\n",
      "420\n"
     ]
    }
   ],
   "source": [
    "from functools import reduce #Импортируем reduce из модуля functools\n",
    "\n",
    "# Генерируем список целых чисел\n",
    "numbers = [3, -1, 2, 10, -5, 7, -3, 0]\n",
    "\n",
    "# Используем filter для выбора положительных чисел и sorted для их упорядочивания по убыванию\n",
    "positive_numbers = sorted(filter(lambda x: x > 0, numbers), reverse=True) #С помощью filter() и лямбда-функции lambda x: x > 0 фильтруем положительные числа из списка.\n",
    "#Сортируем полученный список чисел в убывающем порядке с помощью sorted() с аргументом reverse=True\n",
    "# Выводим отфильтрованный и упорядоченный список\n",
    "print(positive_numbers)\n",
    "\n",
    "# Используем reduce для нахождения произведения всех положительных чисел\n",
    "product_of_positive_numbers = reduce(lambda x, y: x * y, positive_numbers) #С помощью функции reduce() и лямбда-функции lambda x, y: x * y вычисляем произведение всех чисел в отфильтрованном списке.\n",
    "# Выводим результат\n",
    "print(product_of_positive_numbers)\n"
   ]
  },
  {
   "cell_type": "markdown",
   "id": "47861860",
   "metadata": {},
   "source": [
    "Задание(30)\n",
    "а) Создайте декоратор, который будет выводить на экран аргументы функции и их типы.\n",
    "б) Создайте декоратор, который будет принимать несколько аргументов и передавать их в функцию в определенном порядке."
   ]
  },
  {
   "cell_type": "code",
   "execution_count": 13,
   "id": "25110670",
   "metadata": {},
   "outputs": [],
   "source": [
    "#a\n",
    "\n",
    "def debug_args(func):\n",
    "    # Функция-обертка, которая принимает любое количество позиционных и именованных аргументов\n",
    "    def wrapper(*args, **kwargs):\n",
    "        arg_values_types = [(a, type(a)) for a in args]  # Создает список кортежей (значение, тип) для позиционных аргументов\n",
    "        kwarg_values_types = [(k, v, type(v)) for k, v in kwargs.items()]  # Создает список кортежей (ключ, значение, тип) для именованных аргументов\n",
    "        print(\"Positional arguments and types:\", arg_values_types)  # Выводит список позиционных аргументов с их типами\n",
    "        print(\"Keyword arguments and types:\", kwarg_values_types)  # Выводит список именованных аргументов с их типами\n",
    "        return func(*args, **kwargs)  # Вызывает декорируемую функцию с передачей всех аргументов\n",
    "    return wrapper  # Возвращает функцию-обертку\n"
   ]
  },
  {
   "cell_type": "code",
   "execution_count": 14,
   "id": "49433051",
   "metadata": {},
   "outputs": [],
   "source": [
    "#б\n",
    "\n",
    "def reorder_args(*arg_names):\n",
    "    # Внешний декоратор, который принимает список названий аргументов\n",
    "    def decorator(func):\n",
    "        # Функция-обертка, которая принимает аргументы как словарь (по ключам)\n",
    "        def wrapper(**kwargs):\n",
    "            # Переупорядочивает аргументы согласно списку arg_names, игнорируя не указанные аргументы\n",
    "            ordered_kwargs = {name: kwargs[name] for name in arg_names if name in kwargs}\n",
    "            return func(**ordered_kwargs)  # Вызывает декорируемую функцию с новым порядком аргументов\n",
    "        return wrapper  # Возвращает функцию-обертку\n",
    "    return decorator  # Возвращает декоратор\n"
   ]
  }
 ],
 "metadata": {
  "kernelspec": {
   "display_name": "Python 3 (ipykernel)",
   "language": "python",
   "name": "python3"
  },
  "language_info": {
   "codemirror_mode": {
    "name": "ipython",
    "version": 3
   },
   "file_extension": ".py",
   "mimetype": "text/x-python",
   "name": "python",
   "nbconvert_exporter": "python",
   "pygments_lexer": "ipython3",
   "version": "3.11.5"
  }
 },
 "nbformat": 4,
 "nbformat_minor": 5
}
