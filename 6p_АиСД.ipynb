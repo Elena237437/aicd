{
 "cells": [
  {
   "cell_type": "markdown",
   "id": "2c5f0af5",
   "metadata": {},
   "source": [
    "5.2 Написать функцию умножения принимающую от одного до трех параметров. Написать примеры использования этой функции с разным количеством параметров."
   ]
  },
  {
   "cell_type": "code",
   "execution_count": 7,
   "id": "1947732c-286b-4260-8a66-15c2609f4604",
   "metadata": {},
   "outputs": [],
   "source": [
    "# *arg означает, что функция multiply принимает переменное количество аргументов, которые будут доступны внутри функции как кортеж arg\n",
    "def multiply(*arg):\n",
    "    # ограничение на кол-во аргументов если их МЕНЬШЕ 1 то функция выведет Нужен хоть 1 аргумент!\n",
    "    if len(arg) < 1:\n",
    "        return(\"Нужен хоть 1 аргумент!\")\n",
    "    # ограничение на кол-во аргументов если их БОЛЬШЕ 3 то функция выведет Не более 3-х аргументов!\n",
    "    if len(arg) > 3:\n",
    "        return(\"Не более 3-х аргументов!\")\n",
    "    # создаем переменную result для умножение и присв ей значение 1 ибо любое число умноженное на 1 останется собой\n",
    "    result = 1\n",
    "    # создаем цикл перебирающий числа в кортеже и умножаем на число в result перезаписывая его с помощью оператора присваивания *=\n",
    "    # например y*=3 == y = y*3\n",
    "    for num in arg:\n",
    "        result *= num\n",
    "    return result"
   ]
  },
  {
   "cell_type": "code",
   "execution_count": 8,
   "id": "f9857406-f823-48b2-b7e5-5eabb49f3751",
   "metadata": {},
   "outputs": [
    {
     "name": "stdout",
     "output_type": "stream",
     "text": [
      "Нужен хоть 1 аргумент!\n",
      "35\n",
      "2\n",
      "60\n",
      "Не более 3-х аргументов!\n"
     ]
    }
   ],
   "source": [
    "# проверяем рабу функции должны быть 3 числа и надпись\n",
    "print(multiply())\n",
    "print(multiply(35))\n",
    "print(multiply(1, 2))\n",
    "print(multiply(3, 4, 5))\n",
    "print(multiply(6, 7, 8, 0))"
   ]
  },
  {
   "cell_type": "markdown",
   "id": "0a21b0ea",
   "metadata": {},
   "source": [
    "5.3 Функцию из задания 2 вызвать с приведенными ниже аргументами. Для случая а4 выбрать 3 первых и 3 последних значения.\n",
    "а1=(15,10,5)\n",
    "а2=(3,1)\n",
    "а3=[2,35,55]\n",
    "а4=(5,10,15,20)"
   ]
  },
  {
   "cell_type": "code",
   "execution_count": 9,
   "id": "ab234e40-9f6b-4d23-9528-40da38ccb09c",
   "metadata": {},
   "outputs": [
    {
     "name": "stdout",
     "output_type": "stream",
     "text": [
      "750\n",
      "3\n",
      "3850\n",
      "750\n",
      "3000\n"
     ]
    }
   ],
   "source": [
    "# записываем переменные из задания\n",
    "a1 = (15, 10 ,5)\n",
    "a2 = (3, 1)\n",
    "a3 = [2, 35, 55]\n",
    "a4 = (5, 10, 15, 20)\n",
    "# выводим работу функции с аргументами с помощью оператора распаковки (*) для распаковки кортежа и передачи каждого элемента в фунцкцию\n",
    "# если просто вызвать print(multiply(a1)), то мы просто получим кортеж который функция не сможет правильно обработать\n",
    "print(multiply(*a1))\n",
    "print(multiply(*a2))\n",
    "print(multiply(*a3))\n",
    "# выводим 3 числа с начала и 3 с конца\n",
    "print(multiply(*a4[:3]))\n",
    "print(multiply(*a4[-3:]))"
   ]
  }
 ],
 "metadata": {
  "kernelspec": {
   "display_name": "Python 3 (ipykernel)",
   "language": "python",
   "name": "python3"
  },
  "language_info": {
   "codemirror_mode": {
    "name": "ipython",
    "version": 3
   },
   "file_extension": ".py",
   "mimetype": "text/x-python",
   "name": "python",
   "nbconvert_exporter": "python",
   "pygments_lexer": "ipython3",
   "version": "3.10.9"
  }
 },
 "nbformat": 4,
 "nbformat_minor": 5
}
