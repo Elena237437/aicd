{
 "cells": [
  {
   "cell_type": "markdown",
   "id": "df674a7c",
   "metadata": {},
   "source": [
    "1) При помощи стека (можно использовать любую реализацию стека, например, из лекции) проверить, что в строке, содержащей большой фрагмент кода на python, корректно открываются и закрываются скобки '(' и ')'. Заводить какие-либо счетчики и вообще вести подсчет скобок запрещено. \n",
    "Например, в следующей строке корректное количество скобок: \n",
    "'((dsasdas((das(d)das)d)asd)da)' \n",
    "А вот в следующей закрывающих больше, чем открывающих:\n",
    "'(f(gfhd((hgfdg((fghh)dads)das))ds)adddads())))'"
   ]
  },
  {
   "cell_type": "code",
   "execution_count": 2,
   "id": "2d906941",
   "metadata": {},
   "outputs": [
    {
     "name": "stdout",
     "output_type": "stream",
     "text": [
      "'((dsasdas((das(d)das)d)asd)da)' \n",
      "correct\n"
     ]
    }
   ],
   "source": [
    "def correct(string):\n",
    "    stackrray = []\n",
    "    for i in string:\n",
    "        if i == '(':\n",
    "            stackrray.append('*')\n",
    "        if i == ')':\n",
    "            if len(stackrray) == 0:\n",
    "                return 'incorrect'\n",
    "            else:\n",
    "                stackrray = stackrray[:-1]\n",
    "    if len(stackrray) == 0:\n",
    "        return 'correct'\n",
    "    if len(stackrray) > 0:\n",
    "        return 'incorrect'\n",
    "string = input()\n",
    "print(correct(string))\n",
    "    \n",
    "\n",
    "    \n",
    "    \n",
    "    \n",
    "                "
   ]
  },
  {
   "cell_type": "markdown",
   "id": "003683ec",
   "metadata": {},
   "source": [
    "2) С помощью списка (list) реализовать стек. При создании стека нужно передать максимальную длину стека. В случае попытки добавления элемента, приводящего к превышению емкости стека возвращать ошибку. \n",
    "Стек должен поддерживать следующие операции: \n",
    "S.push(e): добавление элемента e на вершину стека S. \n",
    "S.pop(): удаляет и возвращает верхний элемент стека S. Если стек пуст, то возникает ошибка. \n",
    "S.top(): возвращает верхний элемент стека S, не удаляя его. Если стек пуст, то возникает ошибка. \n",
    "S.is_empty( ): возвращает True если стек S не содержит ни одного элемента. \n",
    "len(S): возвращает текущеее количество элементов в стеке S. \n"
   ]
  },
  {
   "cell_type": "code",
   "execution_count": 19,
   "id": "49e98c36",
   "metadata": {},
   "outputs": [
    {
     "name": "stdout",
     "output_type": "stream",
     "text": [
      "5\n",
      "5\n"
     ]
    },
    {
     "ename": "AssertionError",
     "evalue": "Стэк полностью заполнен",
     "output_type": "error",
     "traceback": [
      "\u001b[0;31m---------------------------------------------------------------------------\u001b[0m",
      "\u001b[0;31mAssertionError\u001b[0m                            Traceback (most recent call last)",
      "Cell \u001b[0;32mIn[19], line 21\u001b[0m\n\u001b[1;32m     19\u001b[0m S\u001b[38;5;241m.\u001b[39mpush (\u001b[38;5;241m4\u001b[39m)\n\u001b[1;32m     20\u001b[0m \u001b[38;5;28mprint\u001b[39m(\u001b[38;5;241m5\u001b[39m)\n\u001b[0;32m---> 21\u001b[0m S\u001b[38;5;241m.\u001b[39mpush (\u001b[38;5;241m5\u001b[39m)\n",
      "Cell \u001b[0;32mIn[19], line 6\u001b[0m, in \u001b[0;36mStack.push\u001b[0;34m(self, e)\u001b[0m\n\u001b[1;32m      5\u001b[0m \u001b[38;5;28;01mdef\u001b[39;00m \u001b[38;5;21mpush\u001b[39m(\u001b[38;5;28mself\u001b[39m, e):\n\u001b[0;32m----> 6\u001b[0m     \u001b[38;5;28;01massert\u001b[39;00m \u001b[38;5;28mlen\u001b[39m(\u001b[38;5;28mself\u001b[39m) \u001b[38;5;241m<\u001b[39m \u001b[38;5;28mself\u001b[39m\u001b[38;5;241m.\u001b[39msize, \u001b[38;5;124m\"\u001b[39m\u001b[38;5;124mСтэк полностью заполнен\u001b[39m\u001b[38;5;124m\"\u001b[39m\n\u001b[1;32m      7\u001b[0m     \u001b[38;5;28mself\u001b[39m\u001b[38;5;241m.\u001b[39mappend(e)\n",
      "\u001b[0;31mAssertionError\u001b[0m: Стэк полностью заполнен"
     ]
    }
   ],
   "source": [
    "class Stack(list):\n",
    "    def __init__(self, lst=[], size=1):\n",
    "        self.extend(lst)\n",
    "        self.size = int(size)\n",
    "    def push(self, e):\n",
    "        assert len(self) < self.size, \"Стэк полностью заполнен\"\n",
    "        self.append(e)\n",
    "    def top(self):\n",
    "        el - self[-1]\n",
    "        self.pop()\n",
    "        self.push (el)\n",
    "    def is_empty(self):\n",
    "        return len(self) == 0\n",
    "\n",
    "d = [1,2]\n",
    "S = Stack(d, size=4)\n",
    "S.push (1)\n",
    "print(5)\n",
    "S.push (4)\n",
    "print(5)\n",
    "S.push (5)"
   ]
  },
  {
   "cell_type": "markdown",
   "id": "2024d918",
   "metadata": {},
   "source": [
    "3)Реализовать класс однонаправленного связанного списка.  \n",
    "\n"
   ]
  },
  {
   "cell_type": "code",
   "execution_count": null,
   "id": "2bf8daf5",
   "metadata": {},
   "outputs": [],
   "source": [
    " def __init__(self, data=None):\n",
    "        self.data = data\n",
    "        self.next = None\n",
    "\n",
    "class LinkedList:\n",
    "    def __init__(self):\n",
    "        self.head = None\n",
    "\n",
    "    def add_at_beginning(self, data):\n",
    "        new_node = Node(data)\n",
    "        new_node.next = self.head\n",
    "        self.head = new_node\n"
   ]
  },
  {
   "cell_type": "markdown",
   "id": "48aea2b0",
   "metadata": {},
   "source": [
    "3.1)Реализовать метод добавления элемента в начало списка.  \n"
   ]
  },
  {
   "cell_type": "code",
   "execution_count": 26,
   "id": "45a5c5b4",
   "metadata": {},
   "outputs": [
    {
     "name": "stdout",
     "output_type": "stream",
     "text": [
      "1 -> 2 -> 3 -> None\n",
      "6 -> 0 -> 1 -> 2 -> 3 -> None\n"
     ]
    }
   ],
   "source": [
    "class Node:\n",
    "    def __init__(self, data):\n",
    "        self.next = None\n",
    "        self.data = data\n",
    "    def append (self, val):\n",
    "        end = Node(val)\n",
    "        n = self\n",
    "        while (n.next):\n",
    "            n = n.next \n",
    "        n.next = end\n",
    "    def insert_at_front (self, val):\n",
    "        new_node = Node(val)\n",
    "        new_node.next = self \n",
    "        return new_node\n",
    "    def display(self):\n",
    "        n = self \n",
    "        while n:\n",
    "            print(n. data, end=\" -> \")\n",
    "            n = n.next \n",
    "        print (\"None\")\n",
    "        \n",
    "if __name__ == \"__main__\":\n",
    "    head = Node(1)\n",
    "    head.append(2) \n",
    "    head.append(3) \n",
    "    head.display()\n",
    "    head = head.insert_at_front(0) \n",
    "    head = head.insert_at_front(6) \n",
    "    head.display()"
   ]
  },
  {
   "cell_type": "markdown",
   "id": "d201102f",
   "metadata": {},
   "source": [
    "4) На базе класса однонаправленного связанного списка реализовать двунаправленный связанный список. \n",
    "\n",
    "4.1) Реализовать метод добавления элемента в начало списка.  "
   ]
  },
  {
   "cell_type": "code",
   "execution_count": 28,
   "id": "72b9a365",
   "metadata": {},
   "outputs": [
    {
     "ename": "AttributeError",
     "evalue": "'DoublyLinkedList' object has no attribute 'head'",
     "output_type": "error",
     "traceback": [
      "\u001b[0;31m---------------------------------------------------------------------------\u001b[0m",
      "\u001b[0;31mAttributeError\u001b[0m                            Traceback (most recent call last)",
      "Cell \u001b[0;32mIn[28], line 30\u001b[0m\n\u001b[1;32m     26\u001b[0m         \u001b[38;5;28mprint\u001b[39m()\n\u001b[1;32m     29\u001b[0m new \u001b[38;5;241m=\u001b[39m DoublyLinkedList()\n\u001b[0;32m---> 30\u001b[0m new\u001b[38;5;241m.\u001b[39mprepend(\u001b[38;5;241m8\u001b[39m)  \n\u001b[1;32m     31\u001b[0m new\u001b[38;5;241m.\u001b[39mprepend(\u001b[38;5;241m7\u001b[39m)\n\u001b[1;32m     32\u001b[0m new\u001b[38;5;241m.\u001b[39mprepend(\u001b[38;5;241m6\u001b[39m)  \n",
      "Cell \u001b[0;32mIn[28], line 14\u001b[0m, in \u001b[0;36mDoublyLinkedList.prepend\u001b[0;34m(self, data)\u001b[0m\n\u001b[1;32m     12\u001b[0m \u001b[38;5;28;01mdef\u001b[39;00m \u001b[38;5;21mprepend\u001b[39m(\u001b[38;5;28mself\u001b[39m, data):\n\u001b[1;32m     13\u001b[0m \u001b[38;5;250m    \u001b[39m\u001b[38;5;124;03m\"\"\"Добавляет элемент в начало списка\"\"\"\u001b[39;00m\n\u001b[0;32m---> 14\u001b[0m     new_node \u001b[38;5;241m=\u001b[39m Node(data, \u001b[38;5;28mnext\u001b[39m\u001b[38;5;241m=\u001b[39m\u001b[38;5;28mself\u001b[39m\u001b[38;5;241m.\u001b[39mhead)\n\u001b[1;32m     15\u001b[0m     \u001b[38;5;28;01mif\u001b[39;00m \u001b[38;5;28mself\u001b[39m\u001b[38;5;241m.\u001b[39mhead:\n\u001b[1;32m     16\u001b[0m         \u001b[38;5;28mself\u001b[39m\u001b[38;5;241m.\u001b[39mhead\u001b[38;5;241m.\u001b[39mpred \u001b[38;5;241m=\u001b[39m new_node\n",
      "\u001b[0;31mAttributeError\u001b[0m: 'DoublyLinkedList' object has no attribute 'head'"
     ]
    }
   ],
   "source": [
    "class Node:\n",
    "    def init(self, data=None, next=None, pred=None):\n",
    "        self.data = data  # Данные, хранящиеся в узле\n",
    "        self.next = next  # Ссылка на следующий узел\n",
    "        self.pred = pred  # Ссылка на предыдущий узел\n",
    "        \n",
    "class DoublyLinkedList:\n",
    "    def init(self):\n",
    "        self.head = None  # Голова списка, изначально пустая\n",
    "        self.tail = None  # Хвост списка, изначально пустой\n",
    "\n",
    "    def prepend(self, data):\n",
    "        \"\"\"Добавляет элемент в начало списка\"\"\"\n",
    "        new_node = Node(data, next=self.head)\n",
    "        if self.head:\n",
    "            self.head.pred = new_node\n",
    "        self.head = new_node\n",
    "        if self.tail is None:\n",
    "            self.tail = new_node\n",
    "    def display(self):\n",
    "        \"\"\"Выводит все элементы списка от головы к хвосту\"\"\"\n",
    "        current = self.head\n",
    "        while current:\n",
    "            print(current.data, end=' <-> ' if current.next else '')\n",
    "            current = current.next\n",
    "        print()\n",
    "\n",
    "\n",
    "new = DoublyLinkedList()\n",
    "new.prepend(8)  \n",
    "new.prepend(7)\n",
    "new.prepend(6)  \n",
    "new.prepend(5)\n",
    "new.display()\n",
    "     "
   ]
  },
  {
   "cell_type": "markdown",
   "id": "c87c65e6",
   "metadata": {},
   "source": [
    "\n",
    "5) При помощи класса связанного списка реализовать очередь."
   ]
  },
  {
   "cell_type": "code",
   "execution_count": null,
   "id": "a9405c98",
   "metadata": {},
   "outputs": [],
   "source": [
    "class Node:\n",
    "    def init(self, data):\n",
    "        self.data = data\n",
    "        self.next = None\n",
    "class Queue:\n",
    "    def init(self):\n",
    "        self.tail = None\n",
    "        self.head = None\n",
    "    def enqueue(self, data):\n",
    "        new_mode = Node(data)\n",
    "        if not self.head:\n",
    "            self.head = new_mode\n",
    "            self.tail = new_mode\n",
    "        else:\n",
    "            self.tail.next = new_mode\n",
    "            self.tail = new_mode\n",
    "    def dequeue(self):\n",
    "        if not self.head:\n",
    "            raise ValueError('Queue is empty')\n",
    "        data = self.head.data\n",
    "        self.head = self.head.next\n",
    "        if not self.head:\n",
    "            self.tail = None\n",
    "        return data\n",
    "    def is_empty(self):\n",
    "        return not self.head\n",
    "\n",
    "q = Queue()\n",
    "q.enqueue(1)\n",
    "q.enqueue(2)           \n",
    "q.enqueue(3)\n",
    "\n",
    "print(q.dequeue())\n",
    "print(q.dequeue())\n",
    "q.enqueue(4)\n",
    "print(q.dequeue())\n",
    "print(q.dequeue())"
   ]
  }
 ],
 "metadata": {
  "kernelspec": {
   "display_name": "Python 3 (ipykernel)",
   "language": "python",
   "name": "python3"
  },
  "language_info": {
   "codemirror_mode": {
    "name": "ipython",
    "version": 3
   },
   "file_extension": ".py",
   "mimetype": "text/x-python",
   "name": "python",
   "nbconvert_exporter": "python",
   "pygments_lexer": "ipython3",
   "version": "3.11.5"
  }
 },
 "nbformat": 4,
 "nbformat_minor": 5
}
